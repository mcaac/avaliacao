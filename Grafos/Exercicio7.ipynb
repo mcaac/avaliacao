{
 "cells": [
  {
   "cell_type": "code",
   "execution_count": 145,
   "metadata": {},
   "outputs": [],
   "source": [
    "from graphframes import GraphFrame\n",
    "from pixiedust.display import *\n",
    "import pyspark.sql.functions as SF \n",
    "import networkx as nx\n",
    "import pandas as pd\n",
    "import pprint as pp\n",
    "import matplotlib.pyplot as plt"
   ]
  },
  {
   "cell_type": "code",
   "execution_count": 211,
   "metadata": {},
   "outputs": [],
   "source": [
    "vertices = spark.createDataFrame([('1', 'Pasley', 'Brad', 50), \n",
    "                                  ('2', 'Martin', 'Chris', 43),\n",
    "                                 ('3', 'Paltrow', 'Gwyneth', 47),\n",
    "                                  ('4', 'Downey Jr.', 'Robert', 55),\n",
    "                                  ('9', 'Hanks', 'Tom', 63),\n",
    "                                 ('5', 'Mcgraw', 'Tim', 53),\n",
    "                                 ('6', 'Wilson', 'Rita', 63),\n",
    "                                 ('10', 'Hill', 'Faith', 52),\n",
    "                                 ('7', 'Hargitay', 'Mariska', 56)\n",
    "                                 ,('8', 'Meloni', 'Chris', 59)],\n",
    "                                 ['id', 'name', 'firstname', 'age'])\n",
    "edges = spark.createDataFrame([('1', '2', 'follows'), \n",
    "                              ('3', '1', 'friend'),\n",
    "                              ('1', '3', 'friend'),\n",
    "                               ('3', '4', 'friend'),\n",
    "                               ('4', '3', 'friend'),\n",
    "                               ('5', '3', 'friend'),\n",
    "                               ('3', '5', 'friend'),\n",
    "                               ('4', '5', 'follows'),\n",
    "                               ('6', '9', 'married'),\n",
    "                               ('9', '6', 'married'),\n",
    "                               ('8', '7', 'BFF'),\n",
    "                               ('7', '8', 'BFF'),\n",
    "                               ('7', '6', 'follows'),\n",
    "                               ('7', '9', 'follows'),\n",
    "                               ('10', '9', 'friend'),\n",
    "                               ('9', '10', 'friend'),\n",
    "                               ('10', '6', 'friend'),\n",
    "                               ('6', '10', 'friend'),\n",
    "                               ('5', '6', 'friend'),\n",
    "                               ('6', '5', 'friend'),\n",
    "                               ('5', '6', 'friend'),\n",
    "                               ('6', '5', 'friend'),\n",
    "                               ('10', '5', 'married'),\n",
    "                               ('5', '10', 'married'),\n",
    "                               \n",
    "                              ],\n",
    "                              ['src', 'dst', 'type'])\n",
    "g = GraphFrame(vertices, edges)"
   ]
  },
  {
   "cell_type": "markdown",
   "metadata": {},
   "source": [
    "# LETRA A "
   ]
  },
  {
   "cell_type": "code",
   "execution_count": 212,
   "metadata": {
    "pixiedust": {
     "displayParams": {
      "handlerId": "graphDirected"
     }
    }
   },
   "outputs": [
    {
     "data": {
      "text/html": [
       "<style type=\"text/css\">.pd_warning{display:none;}</style><div class=\"pd_warning\"><em>Hey, there's something awesome here! To see it, open this notebook outside GitHub, in a viewer like Jupyter</em></div><style class=\"pd_save is-viewer-good\">\n",
       "    .node circle {\n",
       "        fill: #fff;\n",
       "        stroke: steelblue;\n",
       "        stroke-width: 1.5px;\n",
       "    }\n",
       "    .node {\n",
       "        font: 10px sans-serif;\n",
       "    }\n",
       "\n",
       "    .link {\n",
       "        fill: none;\n",
       "        stroke: #ccc;\n",
       "        stroke-width: 1.5px;\n",
       "    }\n",
       "\n",
       "    .graph-tree-form.form-inline .form-group {\n",
       "        margin-right: 10px;\n",
       "    }\n",
       "    .graph-tree-form.form-inline .form-group:last-child {\n",
       "        margin-left: 40px;\n",
       "    }\n",
       "    .graph-tree-form.form-inline input,\n",
       "    .graph-tree-form.form-inline select,\n",
       "    .graph-tree-form.form-inline button {\n",
       "        border-radius: 0;\n",
       "        margin: 0;\n",
       "        width: 100%;\n",
       "    }\n",
       "    .graph-error {\n",
       "        color: red;\n",
       "        font-weight: 500;\n",
       "        padding-top: 10px;\n",
       "    }\n",
       "</style><div class=\"pd_save is-viewer-good\">\n",
       "    <form class=\"form-inline graph-tree-form\" role=\"form\">\n",
       "      \n",
       "        <div class=\"form-group col-sm-2\">\n",
       "            <label for=\"colorBy6fda865f\">Color By:</label>\n",
       "            <select class=\"form-control\" id=\"colorBy6fda865f\" name=\"colorBy6fda865f\">\n",
       "                \n",
       "                <option value=\"type\" selected=\"\">type</option>\n",
       "                \n",
       "            </select>\n",
       "        </div>\n",
       "        <div class=\"form-group col-sm-2\">\n",
       "            <label for=\"maxEdges6fda865f\">Max Edges:</label>\n",
       "            <input type=\"number\" class=\"form-control\" id=\"maxEdges6fda865f\" name=\"maxEdges6fda865f\" value=\"100\">\n",
       "        </div>\n",
       "      \n",
       "        <div class=\"form-group\">\n",
       "            <label aria-hidden=\"true\" style=\"visibility:hidden\">label</label>\n",
       "            <button type=\"button\" class=\"btn btn-small btn-primary\" id=\"updateGraph6fda865f\">Update</button>\n",
       "        </div>\n",
       "    </form>\n",
       "</div><div id=\"error6fda865f\" class=\"pd_save graph-error is-viewer-good\"></div><svg id=\"svg6fda865f\" class=\"pd_save graph-svg is-viewer-good\"></svg>"
      ],
      "text/plain": [
       "<IPython.core.display.HTML object>"
      ]
     },
     "metadata": {},
     "output_type": "display_data"
    }
   ],
   "source": [
    "display(g)"
   ]
  },
  {
   "cell_type": "code",
   "execution_count": 232,
   "metadata": {},
   "outputs": [],
   "source": [
    "g1=edges.withColumnRenamed(\"src\",\"source\").withColumnRenamed(\"dst\",\"target\").toPandas()\n",
    "g2 = nx.DiGraph(g1)\n"
   ]
  },
  {
   "cell_type": "code",
   "execution_count": 235,
   "metadata": {
    "pixiedust": {
     "displayParams": {}
    }
   },
   "outputs": [
    {
     "data": {
      "image/png": "[encoded data removed]",
      "text/plain": [
       "<Figure size 432x288 with 1 Axes>"
      ]
     },
     "metadata": {},
     "output_type": "display_data"
    },
    {
     "data": {
      "text/plain": [
       "<Figure size 1080x720 with 0 Axes>"
      ]
     },
     "metadata": {},
     "output_type": "display_data"
    }
   ],
   "source": [
    "options = {\n",
    "    'node_color': 'pink',\n",
    "    'node_size': 300,\n",
    "    'width': 1,\n",
    "    'arrowstyle': '-|>',\n",
    "    'arrowsize': 7,\n",
    "}\n",
    "nx.draw_networkx(g2, arrows=True, **options)\n",
    "plt.figure(figsize=(15,10))\n",
    "plt.show()"
   ]
  },
  {
   "cell_type": "markdown",
   "metadata": {},
   "source": [
    "# LETRA B"
   ]
  },
  {
   "cell_type": "code",
   "execution_count": 215,
   "metadata": {},
   "outputs": [],
   "source": [
    "df=g.triangleCount()"
   ]
  },
  {
   "cell_type": "code",
   "execution_count": 216,
   "metadata": {},
   "outputs": [
    {
     "name": "stdout",
     "output_type": "stream",
     "text": [
      "+-----+---+----------+---------+---+\n",
      "|count| id|      name|firstname|age|\n",
      "+-----+---+----------+---------+---+\n",
      "|    1|  7|  Hargitay|  Mariska| 56|\n",
      "|    1|  3|   Paltrow|  Gwyneth| 47|\n",
      "|    0|  8|    Meloni|    Chris| 59|\n",
      "|    2|  5|    Mcgraw|      Tim| 53|\n",
      "|    3|  6|    Wilson|     Rita| 63|\n",
      "|    2|  9|     Hanks|      Tom| 63|\n",
      "|    0|  1|    Pasley|     Brad| 50|\n",
      "|    2| 10|      Hill|    Faith| 52|\n",
      "|    1|  4|Downey Jr.|   Robert| 55|\n",
      "|    0|  2|    Martin|    Chris| 43|\n",
      "+-----+---+----------+---------+---+\n",
      "\n"
     ]
    }
   ],
   "source": [
    "df.show()"
   ]
  },
  {
   "cell_type": "code",
   "execution_count": 217,
   "metadata": {},
   "outputs": [],
   "source": [
    "df1=df.toPandas()"
   ]
  },
  {
   "cell_type": "code",
   "execution_count": 218,
   "metadata": {},
   "outputs": [
    {
     "data": {
      "text/plain": [
       "4.0"
      ]
     },
     "execution_count": 218,
     "metadata": {},
     "output_type": "execute_result"
    }
   ],
   "source": [
    "(sum(df1[\"count\"])/3)"
   ]
  },
  {
   "cell_type": "markdown",
   "metadata": {},
   "source": [
    "# LETRA C"
   ]
  },
  {
   "cell_type": "code",
   "execution_count": 219,
   "metadata": {},
   "outputs": [],
   "source": [
    "grau=g.degrees"
   ]
  },
  {
   "cell_type": "code",
   "execution_count": 220,
   "metadata": {},
   "outputs": [
    {
     "name": "stdout",
     "output_type": "stream",
     "text": [
      "+---+------+\n",
      "| id|degree|\n",
      "+---+------+\n",
      "|  6|     9|\n",
      "|  5|     9|\n",
      "| 10|     6|\n",
      "|  3|     6|\n",
      "|  9|     5|\n",
      "|  7|     4|\n",
      "|  1|     3|\n",
      "|  4|     3|\n",
      "|  8|     2|\n",
      "|  2|     1|\n",
      "+---+------+\n",
      "\n"
     ]
    }
   ],
   "source": [
    "grau.orderBy(SF.desc(\"degree\")).show()"
   ]
  },
  {
   "cell_type": "code",
   "execution_count": 221,
   "metadata": {},
   "outputs": [
    {
     "name": "stdout",
     "output_type": "stream",
     "text": [
      "Id -> 6\n",
      "0.5\n"
     ]
    }
   ],
   "source": [
    "print(\"Id -> 6\")\n",
    "print(nx.clustering(g2,'6'))\n"
   ]
  },
  {
   "cell_type": "code",
   "execution_count": 222,
   "metadata": {},
   "outputs": [
    {
     "name": "stdout",
     "output_type": "stream",
     "text": [
      "Id -> 5\n",
      "0.3333333333333333\n"
     ]
    }
   ],
   "source": [
    "print(\"Id -> 5\")\n",
    "\n",
    "print(nx.clustering(g2,'5'))\n"
   ]
  },
  {
   "cell_type": "code",
   "execution_count": 223,
   "metadata": {},
   "outputs": [
    {
     "name": "stdout",
     "output_type": "stream",
     "text": [
      "Id -> 10\n",
      "0.6666666666666666\n"
     ]
    }
   ],
   "source": [
    "print(\"Id -> 10\")\n",
    "\n",
    "print(nx.clustering(g2,'10'))\n"
   ]
  },
  {
   "cell_type": "markdown",
   "metadata": {},
   "source": [
    "# LETRA D"
   ]
  },
  {
   "cell_type": "code",
   "execution_count": 224,
   "metadata": {},
   "outputs": [],
   "source": [
    "spark.sparkContext.setCheckpointDir('./checkpoint')"
   ]
  },
  {
   "cell_type": "code",
   "execution_count": 225,
   "metadata": {},
   "outputs": [],
   "source": [
    "SCC=g.stronglyConnectedComponents(maxIter=30)"
   ]
  },
  {
   "cell_type": "code",
   "execution_count": 226,
   "metadata": {
    "pixiedust": {
     "displayParams": {}
    }
   },
   "outputs": [],
   "source": [
    "CC=g.connectedComponents()"
   ]
  },
  {
   "cell_type": "code",
   "execution_count": 227,
   "metadata": {},
   "outputs": [
    {
     "name": "stdout",
     "output_type": "stream",
     "text": [
      "+---+----------+---------+---+-------------+\n",
      "| id|      name|firstname|age|    component|\n",
      "+---+----------+---------+---+-------------+\n",
      "|  1|    Pasley|     Brad| 50| 154618822656|\n",
      "|  9|     Hanks|      Tom| 63| 154618822656|\n",
      "|  8|    Meloni|    Chris| 59|  25769803776|\n",
      "|  3|   Paltrow|  Gwyneth| 47| 154618822656|\n",
      "|  2|    Martin|    Chris| 43|1623497637888|\n",
      "| 10|      Hill|    Faith| 52| 154618822656|\n",
      "|  4|Downey Jr.|   Robert| 55| 154618822656|\n",
      "|  7|  Hargitay|  Mariska| 56|  25769803776|\n",
      "|  6|    Wilson|     Rita| 63| 154618822656|\n",
      "|  5|    Mcgraw|      Tim| 53| 154618822656|\n",
      "+---+----------+---------+---+-------------+\n",
      "\n"
     ]
    }
   ],
   "source": [
    "SCC.show()"
   ]
  },
  {
   "cell_type": "code",
   "execution_count": 228,
   "metadata": {},
   "outputs": [
    {
     "name": "stdout",
     "output_type": "stream",
     "text": [
      "+---+----------+---------+---+-----------+\n",
      "| id|      name|firstname|age|  component|\n",
      "+---+----------+---------+---+-----------+\n",
      "|  1|    Pasley|     Brad| 50|25769803776|\n",
      "|  2|    Martin|    Chris| 43|25769803776|\n",
      "|  3|   Paltrow|  Gwyneth| 47|25769803776|\n",
      "|  4|Downey Jr.|   Robert| 55|25769803776|\n",
      "|  9|     Hanks|      Tom| 63|25769803776|\n",
      "|  5|    Mcgraw|      Tim| 53|25769803776|\n",
      "|  6|    Wilson|     Rita| 63|25769803776|\n",
      "| 10|      Hill|    Faith| 52|25769803776|\n",
      "|  7|  Hargitay|  Mariska| 56|25769803776|\n",
      "|  8|    Meloni|    Chris| 59|25769803776|\n",
      "+---+----------+---------+---+-----------+\n",
      "\n"
     ]
    }
   ],
   "source": [
    "CC.show()"
   ]
  },
  {
   "cell_type": "markdown",
   "metadata": {},
   "source": [
    "# LETRA E"
   ]
  },
  {
   "cell_type": "code",
   "execution_count": 229,
   "metadata": {},
   "outputs": [],
   "source": [
    "LP= g.labelPropagation(maxIter=10)"
   ]
  },
  {
   "cell_type": "code",
   "execution_count": 230,
   "metadata": {},
   "outputs": [
    {
     "name": "stdout",
     "output_type": "stream",
     "text": [
      "+---+----------+---------+---+------------+\n",
      "| id|      name|firstname|age|       label|\n",
      "+---+----------+---------+---+------------+\n",
      "|  1|    Pasley|     Brad| 50|420906795008|\n",
      "|  9|     Hanks|      Tom| 63|420906795008|\n",
      "|  8|    Meloni|    Chris| 59|223338299392|\n",
      "|  3|   Paltrow|  Gwyneth| 47|154618822656|\n",
      "|  2|    Martin|    Chris| 43|154618822656|\n",
      "| 10|      Hill|    Faith| 52|644245094400|\n",
      "|  4|Downey Jr.|   Robert| 55|420906795008|\n",
      "|  7|  Hargitay|  Mariska| 56| 25769803776|\n",
      "|  6|    Wilson|     Rita| 63|644245094400|\n",
      "|  5|    Mcgraw|      Tim| 53|420906795008|\n",
      "+---+----------+---------+---+------------+\n",
      "\n"
     ]
    }
   ],
   "source": [
    "LP.show()"
   ]
  },
  {
   "cell_type": "code",
   "execution_count": null,
   "metadata": {},
   "outputs": [],
   "source": []
  }
 ],
 "metadata": {
  "kernelspec": {
   "display_name": "Python 3",
   "language": "python",
   "name": "python3"
  },
  "language_info": {
   "codemirror_mode": {
    "name": "ipython",
    "version": 3
   },
   "file_extension": ".py",
   "mimetype": "text/x-python",
   "name": "python",
   "nbconvert_exporter": "python",
   "pygments_lexer": "ipython3",
   "version": "3.6.10"
  }
 },
 "nbformat": 4,
 "nbformat_minor": 4
}
