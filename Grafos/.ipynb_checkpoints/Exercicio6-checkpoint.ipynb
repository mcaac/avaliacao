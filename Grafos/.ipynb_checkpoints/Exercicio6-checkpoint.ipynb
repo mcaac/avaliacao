{
 "cells": [
  {
   "cell_type": "code",
   "execution_count": 1,
   "metadata": {},
   "outputs": [
    {
     "name": "stdout",
     "output_type": "stream",
     "text": [
      "Pixiedust database opened successfully\n"
     ]
    },
    {
     "data": {
      "text/html": [
       "\n",
       "        <div style=\"margin:10px\">\n",
       "            <a href=\"https://github.com/ibm-watson-data-lab/pixiedust\" target=\"_new\">\n",
       "                <img src=\"https://github.com/ibm-watson-data-lab/pixiedust/raw/master/docs/_static/pd_icon32.png\" style=\"float:left;margin-right:10px\"/>\n",
       "            </a>\n",
       "            <span>Pixiedust version 1.1.18</span>\n",
       "        </div>\n",
       "        "
      ],
      "text/plain": [
       "<IPython.core.display.HTML object>"
      ]
     },
     "metadata": {},
     "output_type": "display_data"
    }
   ],
   "source": [
    "from graphframes import GraphFrame\n",
    "from pixiedust.display import *\n",
    "import pyspark.sql.functions as SF "
   ]
  },
  {
   "cell_type": "code",
   "execution_count": 2,
   "metadata": {},
   "outputs": [],
   "source": [
    "nodes = spark.read.csv('/home/maria/Documents/grafos/transport-nodes.csv', header=True)\n",
    "rels = spark.read.csv('/home/maria/Documents/grafos/transport-relationships.csv', header=True)\n"
   ]
  },
  {
   "cell_type": "code",
   "execution_count": 3,
   "metadata": {},
   "outputs": [],
   "source": [
    "nodes=nodes.withColumn(\"population\", nodes[\"population\"].cast(\"double\"))"
   ]
  },
  {
   "cell_type": "code",
   "execution_count": 4,
   "metadata": {},
   "outputs": [],
   "source": [
    "rels=rels.withColumn(\"cost\", rels[\"cost\"].cast(\"Int\"))"
   ]
  },
  {
   "cell_type": "code",
   "execution_count": 5,
   "metadata": {},
   "outputs": [
    {
     "name": "stdout",
     "output_type": "stream",
     "text": [
      "+---------+--------+------------+----+\n",
      "|src      |dst     |relationship|cost|\n",
      "+---------+--------+------------+----+\n",
      "|Amsterdam|Utrecht |EROAD       |46  |\n",
      "|Amsterdam|Den Haag|EROAD       |59  |\n",
      "+---------+--------+------------+----+\n",
      "only showing top 2 rows\n",
      "\n"
     ]
    }
   ],
   "source": [
    "rels.show(2,False)"
   ]
  },
  {
   "cell_type": "code",
   "execution_count": 5,
   "metadata": {},
   "outputs": [],
   "source": [
    "g = GraphFrame(nodes, rels)"
   ]
  },
  {
   "cell_type": "code",
   "execution_count": 7,
   "metadata": {
    "scrolled": true
   },
   "outputs": [
    {
     "name": "stdout",
     "output_type": "stream",
     "text": [
      "+----------------+---------+---------+----------+\n",
      "|              id| latitude|longitude|population|\n",
      "+----------------+---------+---------+----------+\n",
      "|       Amsterdam|52.379189| 4.899431|  821752.0|\n",
      "|         Utrecht|52.092876| 5.104480|  334176.0|\n",
      "|        Den Haag|52.078663| 4.288788|  514861.0|\n",
      "|       Immingham| 53.61239| -0.22219|    9642.0|\n",
      "|       Doncaster| 53.52285| -1.13116|  302400.0|\n",
      "|Hoek van Holland|  51.9775|  4.13333|    9382.0|\n",
      "|      Felixstowe| 51.96375|   1.3511|   23689.0|\n",
      "|         Ipswich| 52.05917|  1.15545|  133384.0|\n",
      "|      Colchester| 51.88921|  0.90421|  104390.0|\n",
      "|          London|51.509865|-0.118092| 8787892.0|\n",
      "|       Rotterdam|  51.9225|  4.47917|  623652.0|\n",
      "|           Gouda| 52.01667|  4.70833|   70939.0|\n",
      "+----------------+---------+---------+----------+\n",
      "\n",
      "+----------------+----------------+------------+----+\n",
      "|             src|             dst|relationship|cost|\n",
      "+----------------+----------------+------------+----+\n",
      "|       Amsterdam|         Utrecht|       EROAD|  46|\n",
      "|       Amsterdam|        Den Haag|       EROAD|  59|\n",
      "|        Den Haag|       Rotterdam|       EROAD|  26|\n",
      "|       Amsterdam|       Immingham|       EROAD| 369|\n",
      "|       Immingham|       Doncaster|       EROAD|  74|\n",
      "|       Doncaster|          London|       EROAD| 277|\n",
      "|Hoek van Holland|        Den Haag|       EROAD|  27|\n",
      "|      Felixstowe|Hoek van Holland|       EROAD| 207|\n",
      "|         Ipswich|      Felixstowe|       EROAD|  22|\n",
      "|      Colchester|         Ipswich|       EROAD|  32|\n",
      "|          London|      Colchester|       EROAD| 106|\n",
      "|           Gouda|       Rotterdam|       EROAD|  25|\n",
      "|           Gouda|         Utrecht|       EROAD|  35|\n",
      "|        Den Haag|           Gouda|       EROAD|  32|\n",
      "|Hoek van Holland|       Rotterdam|       EROAD|  33|\n",
      "+----------------+----------------+------------+----+\n",
      "\n",
      "+----------------+------+\n",
      "|              id|degree|\n",
      "+----------------+------+\n",
      "|       Doncaster|     2|\n",
      "|       Rotterdam|     3|\n",
      "|          London|     2|\n",
      "|        Den Haag|     4|\n",
      "|       Immingham|     2|\n",
      "|       Amsterdam|     3|\n",
      "|      Colchester|     2|\n",
      "|         Utrecht|     2|\n",
      "|           Gouda|     3|\n",
      "|         Ipswich|     2|\n",
      "|Hoek van Holland|     3|\n",
      "|      Felixstowe|     2|\n",
      "+----------------+------+\n",
      "\n"
     ]
    }
   ],
   "source": [
    "g.vertices.show()\n",
    "g.edges.show()\n",
    "g.degrees.show()\n"
   ]
  },
  {
   "cell_type": "code",
   "execution_count": 55,
   "metadata": {
    "pixiedust": {
     "displayParams": {
      "handlerId": "graphDirected"
     }
    },
    "scrolled": true
   },
   "outputs": [
    {
     "data": {
      "text/html": [
       "<style type=\"text/css\">.pd_warning{display:none;}</style><div class=\"pd_warning\"><em>Hey, there's something awesome here! To see it, open this notebook outside GitHub, in a viewer like Jupyter</em></div><style class=\"pd_save is-viewer-good\">\n",
       "    .node circle {\n",
       "        fill: #fff;\n",
       "        stroke: steelblue;\n",
       "        stroke-width: 1.5px;\n",
       "    }\n",
       "    .node {\n",
       "        font: 10px sans-serif;\n",
       "    }\n",
       "\n",
       "    .link {\n",
       "        fill: none;\n",
       "        stroke: #ccc;\n",
       "        stroke-width: 1.5px;\n",
       "    }\n",
       "\n",
       "    .graph-tree-form.form-inline .form-group {\n",
       "        margin-right: 10px;\n",
       "    }\n",
       "    .graph-tree-form.form-inline .form-group:last-child {\n",
       "        margin-left: 40px;\n",
       "    }\n",
       "    .graph-tree-form.form-inline input,\n",
       "    .graph-tree-form.form-inline select,\n",
       "    .graph-tree-form.form-inline button {\n",
       "        border-radius: 0;\n",
       "        margin: 0;\n",
       "        width: 100%;\n",
       "    }\n",
       "    .graph-error {\n",
       "        color: red;\n",
       "        font-weight: 500;\n",
       "        padding-top: 10px;\n",
       "    }\n",
       "</style><div class=\"pd_save is-viewer-good\">\n",
       "    <form class=\"form-inline graph-tree-form\" role=\"form\">\n",
       "      \n",
       "        <div class=\"form-group col-sm-2\">\n",
       "            <label for=\"colorBy8df979cd\">Color By:</label>\n",
       "            <select class=\"form-control\" id=\"colorBy8df979cd\" name=\"colorBy8df979cd\">\n",
       "                \n",
       "                <option value=\"cost\" selected=\"\">cost</option>\n",
       "                \n",
       "                <option value=\"relationship\">relationship</option>\n",
       "                \n",
       "            </select>\n",
       "        </div>\n",
       "        <div class=\"form-group col-sm-2\">\n",
       "            <label for=\"maxEdges8df979cd\">Max Edges:</label>\n",
       "            <input type=\"number\" class=\"form-control\" id=\"maxEdges8df979cd\" name=\"maxEdges8df979cd\" value=\"100\">\n",
       "        </div>\n",
       "      \n",
       "        <div class=\"form-group\">\n",
       "            <label aria-hidden=\"true\" style=\"visibility:hidden\">label</label>\n",
       "            <button type=\"button\" class=\"btn btn-small btn-primary\" id=\"updateGraph8df979cd\">Update</button>\n",
       "        </div>\n",
       "    </form>\n",
       "</div><div id=\"error8df979cd\" class=\"pd_save graph-error is-viewer-good\"></div><svg id=\"svg8df979cd\" class=\"pd_save graph-svg is-viewer-good\"></svg>"
      ],
      "text/plain": [
       "<IPython.core.display.HTML object>"
      ]
     },
     "metadata": {},
     "output_type": "display_data"
    }
   ],
   "source": [
    "display(g)"
   ]
  },
  {
   "cell_type": "code",
   "execution_count": 11,
   "metadata": {},
   "outputs": [],
   "source": [
    "Degree=g.degrees\n",
    "InDegree=g.inDegrees\n",
    "OutDegree=g.outDegrees"
   ]
  },
  {
   "cell_type": "code",
   "execution_count": 12,
   "metadata": {},
   "outputs": [],
   "source": [
    "CentralityDegree=Degree.join(InDegree,[\"id\"],\"left\").join(OutDegree,[\"id\"],\"left\").fillna(0)"
   ]
  },
  {
   "cell_type": "code",
   "execution_count": 16,
   "metadata": {},
   "outputs": [
    {
     "name": "stdout",
     "output_type": "stream",
     "text": [
      "+----------+------+--------+---------+\n",
      "|id        |degree|inDegree|outDegree|\n",
      "+----------+------+--------+---------+\n",
      "|Rotterdam |3     |3       |0        |\n",
      "|Utrecht   |2     |2       |0        |\n",
      "|Den Haag  |4     |2       |2        |\n",
      "|Felixstowe|2     |1       |1        |\n",
      "|Doncaster |2     |1       |1        |\n",
      "|London    |2     |1       |1        |\n",
      "|Gouda     |3     |1       |2        |\n",
      "|Ipswich   |2     |1       |1        |\n",
      "|Immingham |2     |1       |1        |\n",
      "|Colchester|2     |1       |1        |\n",
      "+----------+------+--------+---------+\n",
      "only showing top 10 rows\n",
      "\n"
     ]
    }
   ],
   "source": [
    "CentralityDegree.orderBy(SF.desc(\"inDegree\")).show(10,False)"
   ]
  },
  {
   "cell_type": "code",
   "execution_count": 30,
   "metadata": {},
   "outputs": [],
   "source": [
    "import networkx as nw\n",
    "import pandas as pd\n",
    "import pprint as pp\n"
   ]
  },
  {
   "cell_type": "code",
   "execution_count": 42,
   "metadata": {},
   "outputs": [],
   "source": [
    "df=rels.withColumnRenamed(\"src\",\"source\").withColumnRenamed(\"dst\",\"target\").toPandas()\n",
    "df1 = nw.Graph(df)"
   ]
  },
  {
   "cell_type": "code",
   "execution_count": 54,
   "metadata": {},
   "outputs": [
    {
     "name": "stdout",
     "output_type": "stream",
     "text": [
      "{'Amsterdam': 6.166666666666666,\n",
      " 'Colchester': 4.816666666666667,\n",
      " 'Den Haag': 6.666666666666666,\n",
      " 'Doncaster': 5.0,\n",
      " 'Felixstowe': 5.25,\n",
      " 'Gouda': 5.566666666666666,\n",
      " 'Hoek van Holland': 5.999999999999999,\n",
      " 'Immingham': 5.333333333333333,\n",
      " 'Ipswich': 4.95,\n",
      " 'London': 4.816666666666667,\n",
      " 'Rotterdam': 5.866666666666666,\n",
      " 'Utrecht': 5.066666666666667}\n"
     ]
    }
   ],
   "source": [
    "HarmonicCentrality=nw.harmonic_centrality(df1)\n",
    "pp.pprint(HarmonicCentrality)"
   ]
  },
  {
   "cell_type": "code",
   "execution_count": 53,
   "metadata": {},
   "outputs": [
    {
     "name": "stdout",
     "output_type": "stream",
     "text": [
      "{'Amsterdam': 0.44,\n",
      " 'Colchester': 0.3235294117647059,\n",
      " 'Den Haag': 0.4583333333333333,\n",
      " 'Doncaster': 0.3548387096774194,\n",
      " 'Felixstowe': 0.3793103448275862,\n",
      " 'Gouda': 0.3548387096774194,\n",
      " 'Hoek van Holland': 0.4230769230769231,\n",
      " 'Immingham': 0.39285714285714285,\n",
      " 'Ipswich': 0.34375,\n",
      " 'London': 0.3235294117647059,\n",
      " 'Rotterdam': 0.39285714285714285,\n",
      " 'Utrecht': 0.34375}\n"
     ]
    }
   ],
   "source": [
    "WassermanCentrality=nw.closeness_centrality(df1)\n",
    "pp.pprint(WassermanCentrality)"
   ]
  },
  {
   "cell_type": "code",
   "execution_count": 52,
   "metadata": {},
   "outputs": [
    {
     "name": "stdout",
     "output_type": "stream",
     "text": [
      "{'Amsterdam': 0.3090909090909091,\n",
      " 'Colchester': 0.11818181818181818,\n",
      " 'Den Haag': 0.28181818181818186,\n",
      " 'Doncaster': 0.17272727272727273,\n",
      " 'Felixstowe': 0.20909090909090908,\n",
      " 'Gouda': 0.06363636363636364,\n",
      " 'Hoek van Holland': 0.2636363636363636,\n",
      " 'Immingham': 0.22727272727272727,\n",
      " 'Ipswich': 0.15454545454545454,\n",
      " 'London': 0.12727272727272726,\n",
      " 'Rotterdam': 0.05454545454545454,\n",
      " 'Utrecht': 0.03636363636363636}\n"
     ]
    }
   ],
   "source": [
    "BetweennessCentrality=nw.betweenness_centrality(df1)\n",
    "pp.pprint(BetweennessCentrality)"
   ]
  },
  {
   "cell_type": "code",
   "execution_count": null,
   "metadata": {},
   "outputs": [],
   "source": []
  }
 ],
 "metadata": {
  "kernelspec": {
   "display_name": "Python 3",
   "language": "python",
   "name": "python3"
  },
  "language_info": {
   "codemirror_mode": {
    "name": "ipython",
    "version": 3
   },
   "file_extension": ".py",
   "mimetype": "text/x-python",
   "name": "python",
   "nbconvert_exporter": "python",
   "pygments_lexer": "ipython3",
   "version": "3.6.10"
  }
 },
 "nbformat": 4,
 "nbformat_minor": 4
}
